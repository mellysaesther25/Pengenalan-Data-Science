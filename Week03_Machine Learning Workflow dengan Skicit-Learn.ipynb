{
 "cells": [
  {
   "cell_type": "markdown",
   "metadata": {},
   "source": [
    "# Machine Learning Workflow dengan Scikit Learn\n",
    "## Persiapan Dataset\n",
    "### Load Sample Dataset: Iris Dataset\n",
    "Rangkuman dan pembelajaran dikutip dari sumber: https://www.youtube.com/watch?v=tiREcHrtDLo"
   ]
  },
  {
   "cell_type": "code",
   "execution_count": 1,
   "metadata": {},
   "outputs": [],
   "source": [
    "from sklearn.datasets import load_iris\n",
    "\n",
    "iris = load_iris()\n",
    "\n",
    "X = iris.data\n",
    "y = iris.target"
   ]
  },
  {
   "cell_type": "markdown",
   "metadata": {},
   "source": [
    "- Dataset ditampung dalam variable iris.\n",
    "- Nilai features ditampung dalam variable x.\n",
    "- Nilai target ditampung dalam variable y."
   ]
  },
  {
   "cell_type": "markdown",
   "metadata": {},
   "source": [
    "### Splitting Dataset: Training & Testing Set"
   ]
  },
  {
   "cell_type": "code",
   "execution_count": 2,
   "metadata": {},
   "outputs": [],
   "source": [
    "from sklearn.model_selection import train_test_split\n",
    "\n",
    "X_train, X_test, y_train, y_test = train_test_split(X,\n",
    "                                                    y,\n",
    "                                                    test_size=0.4,\n",
    "                                                    random_state=1)"
   ]
  },
  {
   "cell_type": "markdown",
   "metadata": {},
   "source": [
    "- x sebagai sekumpulan nilai features.\n",
    "- y sebagai sekumpulan nilai target.\n",
    "- test_size sebagai ukuran testing set (kasus saat ini 0.4, berarti testing set memiliki proposi 40% dari total keseluruhan dataset sedangkan training set memiliki proposi 60%).\n",
    "- random_state yang digunakan yaitu 1."
   ]
  },
  {
   "cell_type": "markdown",
   "metadata": {},
   "source": [
    "## Training Model\n",
    "- Pada Scikit Learn, model machine learning dibentuk dari class yang dikenal dengan istilah estimator\n",
    "- Setiap estimator akan mengimplementasikan dua method utama, yaitu fit() dan predict()\n",
    "- Method fit() digunakan untuk melakukan training model\n",
    "- Method predict() digunakan untuk melakukan estimasi/prediksi dengan memanfaatkan trained model\n",
    "\n",
    "\n",
    "KneighborsClassifier sebagai Machine Learning Model"
   ]
  },
  {
   "cell_type": "code",
   "execution_count": 3,
   "metadata": {},
   "outputs": [
    {
     "data": {
      "text/plain": [
       "KNeighborsClassifier(n_neighbors=3)"
      ]
     },
     "execution_count": 3,
     "metadata": {},
     "output_type": "execute_result"
    }
   ],
   "source": [
    "from sklearn.neighbors import KNeighborsClassifier\n",
    "\n",
    "model = KNeighborsClassifier(n_neighbors=3)\n",
    "model.fit(X_train, y_train)"
   ]
  },
  {
   "cell_type": "markdown",
   "metadata": {},
   "source": [
    "- Proses pembentukan objek ini membutuhkan sebuah parameter yaitu n_neighbors. Parameter ini dibutuhkan karena objek yang ingin dibentuk berasal dari K-Nearest Neighbors Classifier dan perlu mengspesifikasikan jumlah tetangganya. \n",
    "- Objek model yang terbentuk akan ditampung pada varible model.\n",
    "- Model tersebut akan ditraining dengan menggunakan method fit().\n",
    "- Proses training akan menggunakan training set (x_train, y_train).\n",
    "- Model yang sudah ditraining = trained model."
   ]
  },
  {
   "cell_type": "markdown",
   "metadata": {},
   "source": [
    "## Evaluasi Model\n",
    "\n",
    "Testing set digunakan untuk melakukan proses evaluasi atau testing performa dari model yang ditraining sebelumnya."
   ]
  },
  {
   "cell_type": "code",
   "execution_count": 4,
   "metadata": {},
   "outputs": [
    {
     "name": "stdout",
     "output_type": "stream",
     "text": [
      "Accuracy: 0.9833333333333333\n"
     ]
    }
   ],
   "source": [
    "from sklearn.metrics import accuracy_score\n",
    "\n",
    "y_pred = model.predict(X_test)\n",
    "acc = accuracy_score(y_test, y_pred)\n",
    "print(f'Accuracy: {acc}')"
   ]
  },
  {
   "cell_type": "markdown",
   "metadata": {},
   "source": [
    "- Accuracy_score merupakan salah satu metrics untuk melakukan proses evaluasi dari suatu model.\n",
    "- Tahap ini melakukan prediksi terhadap nilai features(x_test) yang ada dalam testing dataset. \n",
    "- Hasil prediksi ditampung dalam variable y_pred.\n",
    "- Proses evaluasi akan membandingan nilai target (y_test) dengan nilai prediksi (y_pred) menggunakan accuracy_score. \n",
    "- Nilai accuracy ditampung dalam variable acc.\n",
    "- Dalam kasus ini accuracy yang didapatkan 0.9833333333333333 yang berarti nilai accuracy dari model ini adalah 98% (sangat baik)."
   ]
  },
  {
   "cell_type": "markdown",
   "metadata": {},
   "source": [
    "## Pemanfaatan Trained Model\n",
    "\n",
    "Jika trained model dinilai cukup baik berdasarkan hasil evaluasi, maka model yang di training tersebut dapat digunakan untuk memprediksi data baru. "
   ]
  },
  {
   "cell_type": "code",
   "execution_count": 5,
   "metadata": {},
   "outputs": [
    {
     "data": {
      "text/plain": [
       "array([1, 2])"
      ]
     },
     "execution_count": 5,
     "metadata": {},
     "output_type": "execute_result"
    }
   ],
   "source": [
    "data_baru = [[5, 5, 3, 2], \n",
    "             [2, 4, 3, 5]]\n",
    "\n",
    "preds =  model.predict(data_baru)\n",
    "preds"
   ]
  },
  {
   "cell_type": "markdown",
   "metadata": {},
   "source": [
    "- Data baru hanya memiliki sekumpulan nilai features namun tidak untuk nilai target. Maka dimanfaatkanlah trained model sebelumnya untuk melakukan prediksi dari sekumpulan nilai features yang ada. \n",
    "- Dataset terdiri dari 2 row/baris, dimana setiap baris terbagi dalam 4 nilai features.\n",
    "- Akan menghasilkan array([1, 2]) dimana baris pertama memiliki prediksi nilai target 1 dan baris kedua memiliki prediksi nilai target 2."
   ]
  },
  {
   "cell_type": "code",
   "execution_count": 6,
   "metadata": {},
   "outputs": [
    {
     "name": "stdout",
     "output_type": "stream",
     "text": [
      "Hasil Prediksi: ['versicolor', 'virginica']\n"
     ]
    }
   ],
   "source": [
    "pred_species = [iris.target_names[p] for p in preds] \n",
    "print(f'Hasil Prediksi: {pred_species}')"
   ]
  },
  {
   "cell_type": "markdown",
   "metadata": {},
   "source": [
    "- Perlu dikonfirmasi oleh target namesnya, maka dilakukan proses untuk memanggil target names yang dimapping dengan hasil prediksi.\n",
    "\n",
    "Seperti pada catatan Week 02\n",
    "- Index 1 = versicolor\n",
    "- Index 2 = virginica\n"
   ]
  },
  {
   "cell_type": "markdown",
   "metadata": {},
   "source": [
    "## Dump & Load Trained Model\n",
    "### Dumping Model Machine Learning menjadi file joblib\n",
    "\n",
    "Dumpling dan Loading menggunakan joblib."
   ]
  },
  {
   "cell_type": "code",
   "execution_count": 7,
   "metadata": {},
   "outputs": [
    {
     "data": {
      "text/plain": [
       "['iris_classifier_knn.joblib']"
      ]
     },
     "execution_count": 7,
     "metadata": {},
     "output_type": "execute_result"
    }
   ],
   "source": [
    "import joblib\n",
    "\n",
    "joblib.dump(model, 'iris_classifier_knn.joblib')"
   ]
  },
  {
   "cell_type": "markdown",
   "metadata": {},
   "source": [
    "- Joblib.dump membutuhkan 2 parameter yaitu trained model yang perlu kita dumb dan nama file joblib.\n",
    "- Hasil = file iris_classifier_knn.joblib."
   ]
  },
  {
   "cell_type": "markdown",
   "metadata": {},
   "source": [
    "### Loading Model Machine Learning dari file joblib"
   ]
  },
  {
   "cell_type": "code",
   "execution_count": 8,
   "metadata": {},
   "outputs": [],
   "source": [
    "production_model = joblib.load('iris_classifier_knn.joblib')"
   ]
  },
  {
   "cell_type": "markdown",
   "metadata": {},
   "source": [
    "- Ketika sudah joblib.load maka dihasilkan maching learning model.\n",
    "- Maching learning model ditampung dalam nilai production_model.\n",
    "- Lalu production_model dapat digunakan untuk memprediksi data baru yang ditemui di production."
   ]
  }
 ],
 "metadata": {
  "kernelspec": {
   "display_name": "Python 3",
   "language": "python",
   "name": "python3"
  },
  "language_info": {
   "codemirror_mode": {
    "name": "ipython",
    "version": 3
   },
   "file_extension": ".py",
   "mimetype": "text/x-python",
   "name": "python",
   "nbconvert_exporter": "python",
   "pygments_lexer": "ipython3",
   "version": "3.8.3"
  }
 },
 "nbformat": 4,
 "nbformat_minor": 4
}
